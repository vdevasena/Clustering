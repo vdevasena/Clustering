{
  "nbformat": 4,
  "nbformat_minor": 0,
  "metadata": {
    "colab": {
      "provenance": []
    },
    "kernelspec": {
      "name": "python3",
      "display_name": "Python 3"
    },
    "language_info": {
      "name": "python"
    }
  },
  "cells": [
    {
      "cell_type": "code",
      "execution_count": 1,
      "metadata": {
        "colab": {
          "base_uri": "https://localhost:8080/"
        },
        "id": "nxwv6IQyM8ED",
        "outputId": "133857d5-8009-4c29-8b2d-d7242521976b"
      },
      "outputs": [
        {
          "output_type": "stream",
          "name": "stdout",
          "text": [
            "Cluster assignments: [1 0 0 0 0]\n",
            "Cluster modes: [['A' 'A' 'B']\n",
            " ['A' 'B' 'C']]\n"
          ]
        }
      ],
      "source": [
        "import numpy as np\n",
        "import pandas as pd\n",
        "\n",
        "data = np.array([\n",
        "    ['A', 'B', 'C'],\n",
        "    ['B', 'C', 'A'],\n",
        "    ['C', 'A', 'B'],\n",
        "    ['A', 'C', 'B'],\n",
        "    ['A', 'A', 'B']\n",
        "])\n",
        "\n",
        "k = 2\n",
        "\n",
        "np.random.seed(0)\n",
        "modes = data[np.random.choice(data.shape[0], k, replace=False)]\n",
        "\n",
        "clusters = np.zeros(data.shape[0], dtype=int)\n",
        "\n",
        "for _ in range(10):\n",
        "    for i, point in enumerate(data):\n",
        "        distances = [np.sum(point != mode) for mode in modes]\n",
        "        clusters[i] = np.argmin(distances)\n",
        "\n",
        "    for j in range(k):\n",
        "        if np.any(clusters == j):\n",
        "            modes[j] = pd.DataFrame(data[clusters == j]).mode().iloc[0].values\n",
        "\n",
        "print(\"Cluster assignments:\", clusters)\n",
        "print(\"Cluster modes:\", modes)"
      ]
    },
    {
      "cell_type": "code",
      "source": [
        "pip install kmodes"
      ],
      "metadata": {
        "colab": {
          "base_uri": "https://localhost:8080/"
        },
        "id": "WRtE4h2j7yqd",
        "outputId": "a444384a-3865-4e38-92c6-42fc3020aaf9"
      },
      "execution_count": 2,
      "outputs": [
        {
          "output_type": "stream",
          "name": "stdout",
          "text": [
            "Collecting kmodes\n",
            "  Downloading kmodes-0.12.2-py2.py3-none-any.whl.metadata (8.1 kB)\n",
            "Requirement already satisfied: numpy>=1.10.4 in /usr/local/lib/python3.11/dist-packages (from kmodes) (2.0.2)\n",
            "Requirement already satisfied: scikit-learn>=0.22.0 in /usr/local/lib/python3.11/dist-packages (from kmodes) (1.6.1)\n",
            "Requirement already satisfied: scipy>=0.13.3 in /usr/local/lib/python3.11/dist-packages (from kmodes) (1.14.1)\n",
            "Requirement already satisfied: joblib>=0.11 in /usr/local/lib/python3.11/dist-packages (from kmodes) (1.4.2)\n",
            "Requirement already satisfied: threadpoolctl>=3.1.0 in /usr/local/lib/python3.11/dist-packages (from scikit-learn>=0.22.0->kmodes) (3.6.0)\n",
            "Downloading kmodes-0.12.2-py2.py3-none-any.whl (20 kB)\n",
            "Installing collected packages: kmodes\n",
            "Successfully installed kmodes-0.12.2\n"
          ]
        }
      ]
    },
    {
      "cell_type": "code",
      "source": [
        "import pandas as pd\n",
        "import numpy as np\n",
        "# !pip install kmodes\n",
        "from kmodes.kmodes import KModes\n",
        "import matplotlib.pyplot as plt\n",
        "%matplotlib inline\n",
        "\n",
        "cost = []\n",
        "K = range(1,5)\n",
        "for k in list(K):\n",
        "    kmode = KModes(n_clusters=k, init = \"random\", n_init = 5, verbose=1)\n",
        "    kmode.fit_predict(data)\n",
        "    cost.append(kmode.cost_)\n",
        "\n",
        "plt.plot(K, cost, 'x-')\n",
        "plt.xlabel('No. of clusters')\n",
        "plt.ylabel('Cost')\n",
        "plt.title('Elbow Curve')\n",
        "plt.show()"
      ],
      "metadata": {
        "colab": {
          "base_uri": "https://localhost:8080/",
          "height": 1000
        },
        "id": "b3JkJJ_67ym0",
        "outputId": "3239e7b7-1900-4acd-8f2f-ee3005175efd"
      },
      "execution_count": 3,
      "outputs": [
        {
          "output_type": "stream",
          "name": "stdout",
          "text": [
            "Init: initializing centroids\n",
            "Init: initializing clusters\n",
            "Starting iterations...\n",
            "Run 1, iteration: 1/100, moves: 0, cost: 7.0\n",
            "Init: initializing centroids\n",
            "Init: initializing clusters\n",
            "Starting iterations...\n",
            "Run 2, iteration: 1/100, moves: 0, cost: 7.0\n",
            "Init: initializing centroids\n",
            "Init: initializing clusters\n",
            "Starting iterations...\n",
            "Run 3, iteration: 1/100, moves: 0, cost: 7.0\n",
            "Init: initializing centroids\n",
            "Init: initializing clusters\n",
            "Starting iterations...\n",
            "Run 4, iteration: 1/100, moves: 0, cost: 7.0\n",
            "Init: initializing centroids\n",
            "Init: initializing clusters\n",
            "Starting iterations...\n",
            "Run 5, iteration: 1/100, moves: 0, cost: 7.0\n",
            "Best run was number 1\n",
            "Init: initializing centroids\n",
            "Init: initializing clusters\n",
            "Starting iterations...\n",
            "Run 1, iteration: 1/100, moves: 2, cost: 4.0\n",
            "Run 1, iteration: 2/100, moves: 0, cost: 4.0\n",
            "Init: initializing centroids\n",
            "Init: initializing clusters\n",
            "Starting iterations...\n",
            "Run 2, iteration: 1/100, moves: 1, cost: 4.0\n",
            "Run 2, iteration: 2/100, moves: 0, cost: 4.0\n",
            "Init: initializing centroids\n",
            "Init: initializing clusters\n",
            "Starting iterations...\n",
            "Run 3, iteration: 1/100, moves: 1, cost: 4.0\n",
            "Run 3, iteration: 2/100, moves: 0, cost: 4.0\n",
            "Init: initializing centroids\n",
            "Init: initializing clusters\n",
            "Starting iterations...\n",
            "Run 4, iteration: 1/100, moves: 0, cost: 5.0\n",
            "Init: initializing centroids\n",
            "Init: initializing clusters\n",
            "Starting iterations...\n",
            "Run 5, iteration: 1/100, moves: 0, cost: 5.0\n",
            "Best run was number 1\n",
            "Init: initializing centroids\n",
            "Init: initializing clusters\n",
            "Starting iterations...\n",
            "Run 1, iteration: 1/100, moves: 0, cost: 2.0\n",
            "Init: initializing centroids\n",
            "Init: initializing clusters\n",
            "Starting iterations...\n",
            "Run 2, iteration: 1/100, moves: 1, cost: 2.0\n",
            "Run 2, iteration: 2/100, moves: 0, cost: 2.0\n",
            "Init: initializing centroids\n",
            "Init: initializing clusters\n",
            "Starting iterations...\n",
            "Run 3, iteration: 1/100, moves: 2, cost: 4.0\n",
            "Run 3, iteration: 2/100, moves: 0, cost: 4.0\n",
            "Init: initializing centroids\n",
            "Init: initializing clusters\n",
            "Starting iterations...\n",
            "Run 4, iteration: 1/100, moves: 1, cost: 2.0\n",
            "Run 4, iteration: 2/100, moves: 0, cost: 2.0\n",
            "Init: initializing centroids\n",
            "Init: initializing clusters\n",
            "Starting iterations...\n",
            "Run 5, iteration: 1/100, moves: 1, cost: 3.0\n",
            "Run 5, iteration: 2/100, moves: 0, cost: 3.0\n",
            "Best run was number 1\n",
            "Init: initializing centroids\n",
            "Init: initializing clusters\n",
            "Starting iterations...\n",
            "Run 1, iteration: 1/100, moves: 0, cost: 1.0\n",
            "Init: initializing centroids\n",
            "Init: initializing clusters\n",
            "Starting iterations...\n",
            "Run 2, iteration: 1/100, moves: 0, cost: 1.0\n",
            "Init: initializing centroids\n",
            "Init: initializing clusters\n",
            "Starting iterations...\n",
            "Run 3, iteration: 1/100, moves: 1, cost: 1.0\n",
            "Run 3, iteration: 2/100, moves: 0, cost: 1.0\n",
            "Init: initializing centroids\n",
            "Init: initializing clusters\n",
            "Starting iterations...\n",
            "Run 4, iteration: 1/100, moves: 2, cost: 5.0\n",
            "Init: initializing centroids\n",
            "Init: initializing clusters\n",
            "Starting iterations...\n",
            "Run 5, iteration: 1/100, moves: 0, cost: 2.0\n",
            "Best run was number 1\n"
          ]
        },
        {
          "output_type": "display_data",
          "data": {
            "text/plain": [
              "<Figure size 640x480 with 1 Axes>"
            ],
            "image/png": "[encoded data removed]"
          },
          "metadata": {}
        }
      ]
    },
    {
      "cell_type": "code",
      "source": [
        "kmode = KModes(n_clusters=2, init = \"random\", n_init = 5, verbose=1)\n",
        "clusters = kmode.fit_predict(data)\n",
        "clusters"
      ],
      "metadata": {
        "colab": {
          "base_uri": "https://localhost:8080/"
        },
        "id": "UkBuvnS77ykU",
        "outputId": "1c3b1b3c-1cfa-4170-deee-82fc5cf7771a"
      },
      "execution_count": 4,
      "outputs": [
        {
          "output_type": "stream",
          "name": "stdout",
          "text": [
            "Init: initializing centroids\n",
            "Init: initializing clusters\n",
            "Starting iterations...\n",
            "Run 1, iteration: 1/100, moves: 0, cost: 5.0\n",
            "Init: initializing centroids\n",
            "Init: initializing clusters\n",
            "Starting iterations...\n",
            "Run 2, iteration: 1/100, moves: 1, cost: 4.0\n",
            "Run 2, iteration: 2/100, moves: 0, cost: 4.0\n",
            "Init: initializing centroids\n",
            "Init: initializing clusters\n",
            "Starting iterations...\n",
            "Run 3, iteration: 1/100, moves: 2, cost: 5.0\n",
            "Init: initializing centroids\n",
            "Init: initializing clusters\n",
            "Starting iterations...\n",
            "Run 4, iteration: 1/100, moves: 0, cost: 7.0\n",
            "Init: initializing centroids\n",
            "Init: initializing clusters\n",
            "Starting iterations...\n",
            "Run 5, iteration: 1/100, moves: 0, cost: 5.0\n",
            "Best run was number 2\n"
          ]
        },
        {
          "output_type": "execute_result",
          "data": {
            "text/plain": [
              "array([0, 1, 0, 0, 0], dtype=uint16)"
            ]
          },
          "metadata": {},
          "execution_count": 4
        }
      ]
    }
  ]
}